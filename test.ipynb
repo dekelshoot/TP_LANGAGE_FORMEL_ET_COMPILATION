{
 "cells": [
  {
   "cell_type": "code",
   "execution_count": 58,
   "metadata": {},
   "outputs": [
    {
     "name": "stdout",
     "output_type": "stream",
     "text": [
      "l'etat d'arrive q2 ne fait pas partie des etats.\n",
      "l'etat d'arrive q2 ne fait pas partie des etats.\n",
      "Cet automate est : AFD:\n",
      "   - alphabet   : {a, b} \n",
      "   - initiaux      : q\n",
      "   - etats intermediaires : \n",
      "   - finaux    : q\n",
      "   - nombre d'etats : 2 \n",
      "   - transitions :\n",
      "       Partant de l'état (q): \n",
      "       Partant de l'état (q): \n",
      "\n",
      "l'etat d'arrive q2 ne fait pas partie des etats.\n",
      "l'etat d'arrive q2 ne fait pas partie des etats.\n",
      "['q1', 'q2']\n",
      "l'etat d'arrive q2 ne fait pas partie des etats.\n",
      "l'etat d'arrive q2 ne fait pas partie des etats.\n",
      "{}\n"
     ]
    }
   ],
   "source": [
    "import util\n",
    "print(util.read(\"AF.af\"))\n",
    "util.to_png(util.read(\"AF.af\"))\n",
    "print(util.read(\"AF.af\").etats)\n",
    "print(util.read(\"AF.af\").transitions)"
   ]
  },
  {
   "cell_type": "code",
   "execution_count": 80,
   "metadata": {},
   "outputs": [
    {
     "ename": "ImportError",
     "evalue": "cannot import name 'to_png' from 'util' (c:\\Users\\Dekel Shoot\\Desktop\\TP_LANGAGE_FORMEL_ET_COMPILATION\\util.py)",
     "output_type": "error",
     "traceback": [
      "\u001b[1;31m---------------------------------------------------------------------------\u001b[0m",
      "\u001b[1;31mImportError\u001b[0m                               Traceback (most recent call last)",
      "\u001b[1;32mc:\\Users\\Dekel Shoot\\Desktop\\TP_LANGAGE_FORMEL_ET_COMPILATION\\test.ipynb Cell 2\u001b[0m in \u001b[0;36m2\n\u001b[0;32m      <a href='vscode-notebook-cell:/c%3A/Users/Dekel%20Shoot/Desktop/TP_LANGAGE_FORMEL_ET_COMPILATION/test.ipynb#W1sZmlsZQ%3D%3D?line=0'>1</a>\u001b[0m \u001b[39mimport\u001b[39;00m \u001b[39mbase\u001b[39;00m\n\u001b[1;32m----> <a href='vscode-notebook-cell:/c%3A/Users/Dekel%20Shoot/Desktop/TP_LANGAGE_FORMEL_ET_COMPILATION/test.ipynb#W1sZmlsZQ%3D%3D?line=1'>2</a>\u001b[0m \u001b[39mfrom\u001b[39;00m \u001b[39mutil\u001b[39;00m \u001b[39mimport\u001b[39;00m to_png\n\u001b[0;32m      <a href='vscode-notebook-cell:/c%3A/Users/Dekel%20Shoot/Desktop/TP_LANGAGE_FORMEL_ET_COMPILATION/test.ipynb#W1sZmlsZQ%3D%3D?line=2'>3</a>\u001b[0m A \u001b[39m=\u001b[39m base\u001b[39m.\u001b[39mAutomate()\n\u001b[0;32m      <a href='vscode-notebook-cell:/c%3A/Users/Dekel%20Shoot/Desktop/TP_LANGAGE_FORMEL_ET_COMPILATION/test.ipynb#W1sZmlsZQ%3D%3D?line=3'>4</a>\u001b[0m A\u001b[39m.\u001b[39majouter_symbole(\u001b[39m\"\u001b[39m\u001b[39ma\u001b[39m\u001b[39m\"\u001b[39m)\n",
      "\u001b[1;31mImportError\u001b[0m: cannot import name 'to_png' from 'util' (c:\\Users\\Dekel Shoot\\Desktop\\TP_LANGAGE_FORMEL_ET_COMPILATION\\util.py)"
     ]
    }
   ],
   "source": [
    "import base\n",
    "from util import to_png\n",
    "A = base.Automate()\n",
    "A.ajouter_symbole(\"a\")\n",
    "A.ajout_etat(\"1\")\n",
    "A.ajout_transition(\"1\",\"a\",[\"1\"])\n",
    "to_png(A=A)\n",
    "print(A)\n",
    "\n"
   ]
  }
 ],
 "metadata": {
  "kernelspec": {
   "display_name": "Python 3",
   "language": "python",
   "name": "python3"
  },
  "language_info": {
   "name": "python",
   "version": "3.10.0"
  },
  "orig_nbformat": 4
 },
 "nbformat": 4,
 "nbformat_minor": 2
}
